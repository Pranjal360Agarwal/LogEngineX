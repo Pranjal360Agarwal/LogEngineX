{
 "cells": [
  {
   "cell_type": "code",
   "execution_count": 5,
   "id": "0a7debaf",
   "metadata": {},
   "outputs": [],
   "source": [
    "import pandas as pd # type: ignore\n",
    "\n",
    "df = pd.read_csv('dataset/synthetic_logs.csv')      "
   ]
  },
  {
   "cell_type": "code",
   "execution_count": 6,
   "id": "02f5bbbe",
   "metadata": {},
   "outputs": [
    {
     "data": {
      "text/html": [
       "<div>\n",
       "<style scoped>\n",
       "    .dataframe tbody tr th:only-of-type {\n",
       "        vertical-align: middle;\n",
       "    }\n",
       "\n",
       "    .dataframe tbody tr th {\n",
       "        vertical-align: top;\n",
       "    }\n",
       "\n",
       "    .dataframe thead th {\n",
       "        text-align: right;\n",
       "    }\n",
       "</style>\n",
       "<table border=\"1\" class=\"dataframe\">\n",
       "  <thead>\n",
       "    <tr style=\"text-align: right;\">\n",
       "      <th></th>\n",
       "      <th>timestamp</th>\n",
       "      <th>source</th>\n",
       "      <th>log_message</th>\n",
       "      <th>target_label</th>\n",
       "      <th>complexity</th>\n",
       "    </tr>\n",
       "  </thead>\n",
       "  <tbody>\n",
       "    <tr>\n",
       "      <th>0</th>\n",
       "      <td>27-06-2025 07:20</td>\n",
       "      <td>ModernCRM</td>\n",
       "      <td>nova.osapi_compute.wsgi.server [req-b9718cd8-f...</td>\n",
       "      <td>HTTP Status</td>\n",
       "      <td>bert</td>\n",
       "    </tr>\n",
       "    <tr>\n",
       "      <th>1</th>\n",
       "      <td>1/14/2025 23:07</td>\n",
       "      <td>ModernCRM</td>\n",
       "      <td>Email service experiencing issues with sending</td>\n",
       "      <td>Critical Error</td>\n",
       "      <td>bert</td>\n",
       "    </tr>\n",
       "    <tr>\n",
       "      <th>2</th>\n",
       "      <td>1/17/2025 1:29</td>\n",
       "      <td>AnalyticsEngine</td>\n",
       "      <td>Unauthorized access to data was attempted</td>\n",
       "      <td>Security Alert</td>\n",
       "      <td>bert</td>\n",
       "    </tr>\n",
       "  </tbody>\n",
       "</table>\n",
       "</div>"
      ],
      "text/plain": [
       "          timestamp           source  \\\n",
       "0  27-06-2025 07:20        ModernCRM   \n",
       "1   1/14/2025 23:07        ModernCRM   \n",
       "2    1/17/2025 1:29  AnalyticsEngine   \n",
       "\n",
       "                                         log_message    target_label  \\\n",
       "0  nova.osapi_compute.wsgi.server [req-b9718cd8-f...     HTTP Status   \n",
       "1     Email service experiencing issues with sending  Critical Error   \n",
       "2          Unauthorized access to data was attempted  Security Alert   \n",
       "\n",
       "  complexity  \n",
       "0       bert  \n",
       "1       bert  \n",
       "2       bert  "
      ]
     },
     "execution_count": 6,
     "metadata": {},
     "output_type": "execute_result"
    }
   ],
   "source": [
    "df.head(3)"
   ]
  },
  {
   "cell_type": "code",
   "execution_count": 7,
   "id": "8ecb1226",
   "metadata": {},
   "outputs": [
    {
     "data": {
      "text/plain": [
       "array(['ModernCRM', 'AnalyticsEngine', 'ModernHR', 'BillingSystem',\n",
       "       'ThirdPartyAPI', 'LegacyCRM'], dtype=object)"
      ]
     },
     "execution_count": 7,
     "metadata": {},
     "output_type": "execute_result"
    }
   ],
   "source": [
    "df.source.unique()"
   ]
  },
  {
   "cell_type": "code",
   "execution_count": 8,
   "id": "1f07f9b0",
   "metadata": {},
   "outputs": [
    {
     "data": {
      "text/plain": [
       "array(['HTTP Status', 'Critical Error', 'Security Alert', 'Error',\n",
       "       'System Notification', 'Resource Usage', 'User Action',\n",
       "       'Workflow Error', 'Deprecation Warning'], dtype=object)"
      ]
     },
     "execution_count": 8,
     "metadata": {},
     "output_type": "execute_result"
    }
   ],
   "source": [
    "df.target_label.unique()"
   ]
  },
  {
   "cell_type": "code",
   "execution_count": 9,
   "id": "3172c4ba",
   "metadata": {},
   "outputs": [
    {
     "data": {
      "application/vnd.jupyter.widget-view+json": {
       "model_id": "c36923a101e74feb91a1286552a52801",
       "version_major": 2,
       "version_minor": 0
      },
      "text/plain": [
       "modules.json:   0%|          | 0.00/349 [00:00<?, ?B/s]"
      ]
     },
     "metadata": {},
     "output_type": "display_data"
    },
    {
     "name": "stderr",
     "output_type": "stream",
     "text": [
      "c:\\Users\\91945\\anaconda3\\lib\\site-packages\\huggingface_hub\\file_download.py:143: UserWarning: `huggingface_hub` cache-system uses symlinks by default to efficiently store duplicated files but your machine does not support them in C:\\Users\\91945\\.cache\\huggingface\\hub\\models--sentence-transformers--all-MiniLM-L6-v2. Caching files will still work but in a degraded version that might require more space on your disk. This warning can be disabled by setting the `HF_HUB_DISABLE_SYMLINKS_WARNING` environment variable. For more details, see https://huggingface.co/docs/huggingface_hub/how-to-cache#limitations.\n",
      "To support symlinks on Windows, you either need to activate Developer Mode or to run Python as an administrator. In order to activate developer mode, see this article: https://docs.microsoft.com/en-us/windows/apps/get-started/enable-your-device-for-development\n",
      "  warnings.warn(message)\n"
     ]
    },
    {
     "data": {
      "application/vnd.jupyter.widget-view+json": {
       "model_id": "e1332504bc55473d9b1d9c6aed6f2bef",
       "version_major": 2,
       "version_minor": 0
      },
      "text/plain": [
       "config_sentence_transformers.json:   0%|          | 0.00/116 [00:00<?, ?B/s]"
      ]
     },
     "metadata": {},
     "output_type": "display_data"
    },
    {
     "data": {
      "application/vnd.jupyter.widget-view+json": {
       "model_id": "01e26ab7048244cd869ba0c3e21829a3",
       "version_major": 2,
       "version_minor": 0
      },
      "text/plain": [
       "README.md:   0%|          | 0.00/10.5k [00:00<?, ?B/s]"
      ]
     },
     "metadata": {},
     "output_type": "display_data"
    },
    {
     "data": {
      "application/vnd.jupyter.widget-view+json": {
       "model_id": "2661d16953b24b8388f421cdc7e2ce65",
       "version_major": 2,
       "version_minor": 0
      },
      "text/plain": [
       "sentence_bert_config.json:   0%|          | 0.00/53.0 [00:00<?, ?B/s]"
      ]
     },
     "metadata": {},
     "output_type": "display_data"
    },
    {
     "data": {
      "application/vnd.jupyter.widget-view+json": {
       "model_id": "cdd3a49390484981bd26ce2a32d979b6",
       "version_major": 2,
       "version_minor": 0
      },
      "text/plain": [
       "config.json:   0%|          | 0.00/612 [00:00<?, ?B/s]"
      ]
     },
     "metadata": {},
     "output_type": "display_data"
    },
    {
     "name": "stderr",
     "output_type": "stream",
     "text": [
      "Xet Storage is enabled for this repo, but the 'hf_xet' package is not installed. Falling back to regular HTTP download. For better performance, install the package with: `pip install huggingface_hub[hf_xet]` or `pip install hf_xet`\n"
     ]
    },
    {
     "data": {
      "application/vnd.jupyter.widget-view+json": {
       "model_id": "15e98b1e11d54c21b42a9c530146037b",
       "version_major": 2,
       "version_minor": 0
      },
      "text/plain": [
       "model.safetensors:   0%|          | 0.00/90.9M [00:00<?, ?B/s]"
      ]
     },
     "metadata": {},
     "output_type": "display_data"
    },
    {
     "data": {
      "application/vnd.jupyter.widget-view+json": {
       "model_id": "bc3bfe890dcd4eb991c30d645968bf03",
       "version_major": 2,
       "version_minor": 0
      },
      "text/plain": [
       "tokenizer_config.json:   0%|          | 0.00/350 [00:00<?, ?B/s]"
      ]
     },
     "metadata": {},
     "output_type": "display_data"
    },
    {
     "data": {
      "application/vnd.jupyter.widget-view+json": {
       "model_id": "413f3421fba74884a2b0b780e1ac8138",
       "version_major": 2,
       "version_minor": 0
      },
      "text/plain": [
       "vocab.txt:   0%|          | 0.00/232k [00:00<?, ?B/s]"
      ]
     },
     "metadata": {},
     "output_type": "display_data"
    },
    {
     "data": {
      "application/vnd.jupyter.widget-view+json": {
       "model_id": "3ea4eb4766104b4e8b44ef4e69041086",
       "version_major": 2,
       "version_minor": 0
      },
      "text/plain": [
       "tokenizer.json:   0%|          | 0.00/466k [00:00<?, ?B/s]"
      ]
     },
     "metadata": {},
     "output_type": "display_data"
    },
    {
     "data": {
      "application/vnd.jupyter.widget-view+json": {
       "model_id": "c9fdf5d6f8304b4ebc1017e338b1addc",
       "version_major": 2,
       "version_minor": 0
      },
      "text/plain": [
       "special_tokens_map.json:   0%|          | 0.00/112 [00:00<?, ?B/s]"
      ]
     },
     "metadata": {},
     "output_type": "display_data"
    },
    {
     "data": {
      "application/vnd.jupyter.widget-view+json": {
       "model_id": "9628f3d3267e4beab69cd6aa328fb642",
       "version_major": 2,
       "version_minor": 0
      },
      "text/plain": [
       "config.json:   0%|          | 0.00/190 [00:00<?, ?B/s]"
      ]
     },
     "metadata": {},
     "output_type": "display_data"
    },
    {
     "data": {
      "text/html": [
       "<div>\n",
       "<style scoped>\n",
       "    .dataframe tbody tr th:only-of-type {\n",
       "        vertical-align: middle;\n",
       "    }\n",
       "\n",
       "    .dataframe tbody tr th {\n",
       "        vertical-align: top;\n",
       "    }\n",
       "\n",
       "    .dataframe thead th {\n",
       "        text-align: right;\n",
       "    }\n",
       "</style>\n",
       "<table border=\"1\" class=\"dataframe\">\n",
       "  <thead>\n",
       "    <tr style=\"text-align: right;\">\n",
       "      <th></th>\n",
       "      <th>timestamp</th>\n",
       "      <th>source</th>\n",
       "      <th>log_message</th>\n",
       "      <th>target_label</th>\n",
       "      <th>complexity</th>\n",
       "      <th>cluster</th>\n",
       "    </tr>\n",
       "  </thead>\n",
       "  <tbody>\n",
       "    <tr>\n",
       "      <th>0</th>\n",
       "      <td>27-06-2025 07:20</td>\n",
       "      <td>ModernCRM</td>\n",
       "      <td>nova.osapi_compute.wsgi.server [req-b9718cd8-f...</td>\n",
       "      <td>HTTP Status</td>\n",
       "      <td>bert</td>\n",
       "      <td>0</td>\n",
       "    </tr>\n",
       "    <tr>\n",
       "      <th>1</th>\n",
       "      <td>1/14/2025 23:07</td>\n",
       "      <td>ModernCRM</td>\n",
       "      <td>Email service experiencing issues with sending</td>\n",
       "      <td>Critical Error</td>\n",
       "      <td>bert</td>\n",
       "      <td>1</td>\n",
       "    </tr>\n",
       "    <tr>\n",
       "      <th>2</th>\n",
       "      <td>1/17/2025 1:29</td>\n",
       "      <td>AnalyticsEngine</td>\n",
       "      <td>Unauthorized access to data was attempted</td>\n",
       "      <td>Security Alert</td>\n",
       "      <td>bert</td>\n",
       "      <td>1</td>\n",
       "    </tr>\n",
       "    <tr>\n",
       "      <th>3</th>\n",
       "      <td>12-07-2025 00:24</td>\n",
       "      <td>ModernHR</td>\n",
       "      <td>nova.osapi_compute.wsgi.server [req-4895c258-b...</td>\n",
       "      <td>HTTP Status</td>\n",
       "      <td>bert</td>\n",
       "      <td>0</td>\n",
       "    </tr>\n",
       "    <tr>\n",
       "      <th>4</th>\n",
       "      <td>02-06-2025 18:25</td>\n",
       "      <td>BillingSystem</td>\n",
       "      <td>nova.osapi_compute.wsgi.server [req-ee8bc8ba-9...</td>\n",
       "      <td>HTTP Status</td>\n",
       "      <td>bert</td>\n",
       "      <td>0</td>\n",
       "    </tr>\n",
       "  </tbody>\n",
       "</table>\n",
       "</div>"
      ],
      "text/plain": [
       "          timestamp           source  \\\n",
       "0  27-06-2025 07:20        ModernCRM   \n",
       "1   1/14/2025 23:07        ModernCRM   \n",
       "2    1/17/2025 1:29  AnalyticsEngine   \n",
       "3  12-07-2025 00:24         ModernHR   \n",
       "4  02-06-2025 18:25    BillingSystem   \n",
       "\n",
       "                                         log_message    target_label  \\\n",
       "0  nova.osapi_compute.wsgi.server [req-b9718cd8-f...     HTTP Status   \n",
       "1     Email service experiencing issues with sending  Critical Error   \n",
       "2          Unauthorized access to data was attempted  Security Alert   \n",
       "3  nova.osapi_compute.wsgi.server [req-4895c258-b...     HTTP Status   \n",
       "4  nova.osapi_compute.wsgi.server [req-ee8bc8ba-9...     HTTP Status   \n",
       "\n",
       "  complexity  cluster  \n",
       "0       bert        0  \n",
       "1       bert        1  \n",
       "2       bert        1  \n",
       "3       bert        0  \n",
       "4       bert        0  "
      ]
     },
     "execution_count": 9,
     "metadata": {},
     "output_type": "execute_result"
    }
   ],
   "source": [
    "# Import necessary libraries\n",
    "from sentence_transformers import SentenceTransformer\n",
    "from sklearn.cluster import DBSCAN\n",
    "import pandas as pd\n",
    "\n",
    "# Load the dataset\n",
    "df = pd.read_csv('dataset/synthetic_logs.csv')\n",
    "\n",
    "# Ensure the 'log_message' column exists in the dataset\n",
    "if 'log_message' not in df.columns:\n",
    "    raise ValueError(\"The dataset must contain a 'log_message' column.\")\n",
    "\n",
    "# Load a pre-trained SentenceTransformer model\n",
    "model = SentenceTransformer('all-MiniLM-L6-v2')\n",
    "\n",
    "# Generate embeddings for the log messages\n",
    "log_messages = df['log_message'].tolist()\n",
    "embeddings = model.encode(log_messages)\n",
    "\n",
    "# Apply DBSCAN clustering\n",
    "dbscan = DBSCAN(eps=0.5, min_samples=5, metric='cosine')\n",
    "clusters = dbscan.fit_predict(embeddings)\n",
    "\n",
    "# Add the cluster labels to the dataframe\n",
    "df['cluster'] = clusters\n",
    "\n",
    "# Save the clustered data to a new CSV file\n",
    "df.to_csv('dataset/clustered_logs.csv', index=False)\n",
    "\n",
    "# Display the first few rows of the dataframe with cluster labels\n",
    "df.head()"
   ]
  },
  {
   "cell_type": "code",
   "execution_count": 10,
   "id": "e12751a8",
   "metadata": {},
   "outputs": [
    {
     "data": {
      "text/plain": [
       "array([[-1.02939621e-01,  3.35459411e-02, -2.20260732e-02,\n",
       "         1.55101740e-03, -9.86917876e-03, -1.78956270e-01,\n",
       "        -6.34409785e-02, -6.01761639e-02,  2.81109158e-02,\n",
       "         5.99620491e-02, -1.72618348e-02,  1.43363548e-03,\n",
       "        -1.49560034e-01,  3.15287686e-03, -5.66030927e-02,\n",
       "         2.71685235e-02, -1.49891041e-02, -3.54037657e-02,\n",
       "        -3.62936445e-02, -1.45410765e-02, -5.61491773e-03,\n",
       "         8.75539035e-02,  4.55120578e-02,  2.50963885e-02,\n",
       "         1.00187510e-02,  1.24267349e-02, -1.39923573e-01,\n",
       "         7.68696293e-02,  3.14095505e-02, -4.15247958e-03,\n",
       "         4.36902344e-02,  1.71250012e-02, -8.00951198e-02,\n",
       "         5.74006326e-02,  1.89091656e-02,  8.55262503e-02,\n",
       "         3.96398641e-02, -1.34371817e-01, -1.44360063e-03,\n",
       "         3.06704035e-03,  1.76854044e-01,  4.44885530e-03,\n",
       "        -1.69274509e-02,  2.24266481e-02, -4.35049310e-02,\n",
       "         6.09034160e-03, -9.98169929e-03, -6.23972900e-02,\n",
       "         1.07372422e-02, -6.04895083e-03, -7.14660808e-02,\n",
       "        -8.45799781e-03, -3.18019874e-02, -1.00518376e-01,\n",
       "         2.25873096e-04, -1.89341009e-02, -3.17793973e-02,\n",
       "         4.00860943e-02,  2.19178163e-02, -2.59528961e-02,\n",
       "         5.84525056e-02, -8.12509581e-02,  2.12029163e-02,\n",
       "        -5.02687655e-02,  1.32057499e-02,  1.32675481e-03,\n",
       "         2.27062907e-02, -3.45793478e-02,  3.91546972e-02,\n",
       "        -2.09433399e-02,  3.24829482e-03,  4.43961099e-02,\n",
       "        -9.85357612e-02, -2.88895369e-02, -6.85023936e-03,\n",
       "         5.38818911e-02,  6.46110177e-02, -2.45060585e-02,\n",
       "         9.21828747e-02, -7.49868751e-02,  1.23994909e-02,\n",
       "        -1.00026578e-01, -4.64910977e-02,  6.01570047e-02,\n",
       "        -2.46480722e-02, -7.08076209e-02, -2.77270824e-02,\n",
       "         9.72611383e-02,  3.85841392e-02, -1.44293057e-02,\n",
       "        -7.46909878e-04, -1.04304878e-02, -1.61842871e-02,\n",
       "         4.43628095e-02,  9.25995968e-03,  7.14165792e-02,\n",
       "         6.37917742e-02,  4.94931564e-02, -6.02567680e-02,\n",
       "         4.04805690e-02, -3.42860855e-02, -1.93881039e-02,\n",
       "         6.61233589e-02,  6.01589568e-02,  1.09371776e-02,\n",
       "        -5.38631296e-03,  1.44579662e-02,  9.25429910e-02,\n",
       "        -3.14564183e-02, -1.84352025e-02,  9.91876610e-03,\n",
       "        -1.85574219e-02,  1.31284434e-03,  2.26702014e-05,\n",
       "         2.02741218e-03,  2.75256746e-02, -4.81928065e-02,\n",
       "         5.42826168e-02, -7.32066929e-02,  4.88667302e-02,\n",
       "         4.98490408e-02, -9.01139528e-03, -4.68905792e-02,\n",
       "        -4.25887071e-02, -8.19523931e-02,  3.87106128e-02,\n",
       "         7.85504058e-02,  1.46077081e-32,  1.66706275e-02,\n",
       "         5.25494143e-02, -1.82448905e-02, -1.26686739e-02,\n",
       "         6.52837083e-02, -2.11777352e-02, -4.06323038e-02,\n",
       "         4.14947495e-02, -2.48360801e-02, -1.33068245e-02,\n",
       "        -5.46753556e-02, -5.99200139e-04, -4.89246612e-03,\n",
       "        -6.27359450e-02, -3.84878367e-02, -6.13543652e-02,\n",
       "         8.27405825e-02,  2.34379973e-02, -8.63091834e-03,\n",
       "         1.31003130e-02,  6.44215122e-02, -4.41361926e-02,\n",
       "        -6.98633417e-02, -7.36059994e-02, -4.33264039e-02,\n",
       "         6.96522417e-03, -5.05956709e-02, -1.60911996e-02,\n",
       "        -5.66794015e-02,  3.35454731e-03,  5.34115247e-02,\n",
       "         2.47761514e-02, -1.47986487e-02, -2.93242969e-02,\n",
       "         7.30228499e-02, -1.86833944e-02,  8.13137367e-02,\n",
       "        -2.69967224e-02, -5.68056367e-02, -6.59389049e-02,\n",
       "        -5.95394848e-03,  2.85312776e-02, -7.85358176e-02,\n",
       "        -2.76694540e-03, -3.26469471e-03, -9.28332806e-02,\n",
       "        -7.27363005e-02, -3.31903026e-02,  1.01411112e-01,\n",
       "         9.79882479e-02, -9.78740230e-02,  1.98667571e-02,\n",
       "         2.38837320e-02, -1.81672648e-02, -3.73708978e-02,\n",
       "         1.96551997e-03,  6.34425730e-02,  1.18271559e-02,\n",
       "        -1.12041300e-02, -3.87316644e-02,  9.32424441e-02,\n",
       "         4.26628767e-03, -1.66872628e-02, -6.87464401e-02,\n",
       "         1.55119859e-02, -4.97755483e-02,  3.34493034e-02,\n",
       "         8.00032541e-02,  2.12282464e-02,  1.34581864e-01,\n",
       "        -2.30729766e-02,  5.53858802e-02,  3.07558421e-02,\n",
       "        -2.93905940e-02,  2.31905375e-02, -9.34307799e-02,\n",
       "         7.58034959e-02, -5.21208439e-03, -5.14523312e-02,\n",
       "         3.32688726e-02,  3.67963351e-02, -1.06450235e-02,\n",
       "         1.01634776e-02, -2.07651369e-02, -5.85519075e-02,\n",
       "         4.79328595e-02,  2.13694703e-02,  8.76213461e-02,\n",
       "         3.35494406e-03, -3.80336568e-02, -1.81205384e-02,\n",
       "         6.87449984e-03,  5.15880026e-02, -4.75598909e-02,\n",
       "        -6.12065606e-02, -1.45483574e-32,  4.12801234e-03,\n",
       "         4.59641684e-03, -5.63900359e-02,  4.32465039e-03,\n",
       "        -1.09439227e-03,  9.31954943e-03, -2.20269002e-02,\n",
       "         5.79564497e-02, -1.44787477e-02,  4.64155786e-02,\n",
       "         1.43542871e-01, -6.89756870e-02,  6.09631799e-02,\n",
       "        -8.93743932e-02,  2.40919460e-02,  2.06010658e-02,\n",
       "        -2.82415487e-02, -6.48315251e-02,  5.64795695e-02,\n",
       "        -7.48336036e-03, -3.52058038e-02,  8.51060525e-02,\n",
       "         1.30359633e-02,  2.02257764e-02, -1.44390641e-02,\n",
       "        -4.63718511e-02,  1.77209619e-02,  1.59105826e-02,\n",
       "        -9.51009318e-02, -3.54526863e-02,  2.08696295e-02,\n",
       "         3.84389190e-03, -8.77918154e-02,  6.44575655e-02,\n",
       "         1.44171156e-02,  3.84733523e-03,  4.70991470e-02,\n",
       "         4.94661182e-02,  1.53862564e-02, -2.59578805e-02,\n",
       "         9.10894647e-02,  1.83307882e-02, -5.89206666e-02,\n",
       "         2.51992680e-02, -3.30374353e-02,  8.23345333e-02,\n",
       "         1.74792372e-02,  6.48047701e-02, -1.19674122e-02,\n",
       "        -3.31778415e-02,  3.00177671e-02,  3.54220010e-02,\n",
       "        -1.39624272e-02,  6.69272467e-02,  3.87919769e-02,\n",
       "         6.06916696e-02,  1.17958151e-03, -2.38787029e-02,\n",
       "        -1.26930416e-01,  1.13846380e-02,  1.59290042e-02,\n",
       "        -1.29427500e-02, -8.63247886e-02,  8.53661261e-03,\n",
       "         6.03761226e-02,  1.51121775e-02, -1.19132362e-01,\n",
       "         1.15234600e-02,  5.97089604e-02, -3.93345878e-02,\n",
       "         1.55673325e-02,  1.04602240e-02, -4.72456925e-02,\n",
       "        -2.59243399e-02,  9.98525601e-03,  3.07146404e-02,\n",
       "        -7.14844763e-02,  6.98965415e-03, -1.55133577e-02,\n",
       "         2.18864139e-02, -2.78145913e-02,  6.92733005e-02,\n",
       "        -2.75903586e-02,  2.62429845e-02,  3.52561660e-02,\n",
       "        -4.26419862e-02,  7.46284146e-04,  6.59866631e-02,\n",
       "        -5.15105948e-02, -3.58434319e-02, -6.53440924e-03,\n",
       "        -2.75858175e-02, -1.00125581e-01,  7.83326104e-02,\n",
       "        -1.45798642e-02, -6.18457250e-08,  2.00325698e-02,\n",
       "         6.59784526e-02, -2.04702560e-02,  1.64043903e-02,\n",
       "         7.63001442e-02,  7.32182562e-02,  5.65784518e-03,\n",
       "        -6.97782438e-04, -3.63794621e-03,  6.02393858e-02,\n",
       "        -3.27187181e-02, -6.45838156e-02, -5.97952493e-02,\n",
       "        -1.76696330e-02,  6.10143691e-03, -5.63488016e-03,\n",
       "        -1.22972250e-01,  6.35818988e-02, -2.19432022e-02,\n",
       "        -1.16406500e-01,  2.34366246e-02, -7.23525658e-02,\n",
       "         2.31773835e-02, -6.55987561e-02, -7.42682368e-02,\n",
       "         2.60146223e-02,  3.59758623e-02,  7.68432692e-02,\n",
       "        -3.08057331e-02, -2.34794039e-02, -6.30426034e-02,\n",
       "        -3.62158157e-02, -1.03560016e-02, -4.75602485e-02,\n",
       "        -2.87522227e-02,  2.96400599e-02, -5.26892208e-03,\n",
       "         5.67889623e-02, -3.74485948e-03,  3.09612993e-02,\n",
       "         3.48226950e-02,  3.78607921e-02,  2.10155267e-02,\n",
       "         2.70691738e-02,  5.25520407e-02,  7.16229230e-02,\n",
       "        -5.53755183e-03,  4.01093923e-02,  5.16276695e-02,\n",
       "        -2.67314408e-02,  5.94224073e-02, -4.29224260e-02,\n",
       "        -1.19760446e-02,  3.05984747e-02, -7.40331411e-02,\n",
       "         1.84222143e-02, -8.64861440e-03, -8.83557573e-02,\n",
       "        -5.91984391e-02, -1.00920675e-04,  1.12913631e-01,\n",
       "         4.57792636e-03, -4.25971746e-02,  3.22620897e-03],\n",
       "       [ 8.04571714e-03, -3.57392281e-02,  4.93873917e-02,\n",
       "        -7.19184149e-03,  6.17644750e-04, -9.05685052e-02,\n",
       "         5.75594865e-02, -4.39446270e-02,  1.74751636e-02,\n",
       "         5.21203242e-02, -4.62332033e-02,  2.49039363e-02,\n",
       "         4.80811782e-02,  6.86636567e-02,  3.56146656e-02,\n",
       "         3.00089642e-02,  2.61449497e-02, -9.05241296e-02,\n",
       "        -8.02173615e-02,  5.04851192e-02, -7.90870488e-02,\n",
       "        -1.76855002e-03, -2.48927530e-02,  9.02152434e-02,\n",
       "         5.83698181e-03, -6.91070855e-02, -6.67966083e-02,\n",
       "        -6.99113635e-03, -1.04565986e-01, -2.66473852e-02,\n",
       "         3.05640064e-02,  2.02934369e-02,  2.25454886e-02,\n",
       "        -4.22687922e-03,  1.11173484e-02,  6.78260773e-02,\n",
       "         1.06073590e-02,  7.56636113e-02, -8.22777823e-02,\n",
       "         8.45735706e-03, -6.97612464e-02, -4.21974584e-02,\n",
       "        -1.05674397e-02,  2.23673340e-02,  5.64496815e-02,\n",
       "         8.16500373e-03,  1.09344080e-01,  3.16564441e-02,\n",
       "        -1.76923554e-02, -3.21071148e-02, -3.39975841e-02,\n",
       "        -4.91802581e-04,  3.72874690e-03,  2.83771455e-02,\n",
       "        -1.28521984e-02, -1.07933208e-03, -6.32418916e-02,\n",
       "         6.89900741e-02,  1.77270379e-02, -5.20960055e-02,\n",
       "         8.28307122e-03,  5.45032695e-02, -5.42099662e-02,\n",
       "        -4.53333110e-02, -4.07494120e-02, -2.82698181e-02,\n",
       "         1.23605840e-02, -2.13816017e-02, -2.36265361e-02,\n",
       "         1.25317592e-02, -2.37170625e-02,  3.97411808e-02,\n",
       "        -1.24362275e-01,  7.60625228e-02,  5.50834052e-02,\n",
       "         8.28216746e-02,  2.97118574e-02, -1.84067208e-02,\n",
       "        -1.96194761e-02,  5.54319136e-02, -3.49144414e-02,\n",
       "        -4.14678007e-02, -3.37047353e-02,  7.31324479e-02,\n",
       "         4.41836640e-02,  2.55246740e-02, -8.26408435e-03,\n",
       "        -1.07322847e-02, -4.26243879e-02, -2.84964102e-03,\n",
       "         7.38559514e-02,  2.27767937e-02,  7.15389557e-04,\n",
       "         4.36012261e-02,  5.09079471e-02,  6.38482645e-02,\n",
       "        -2.73155570e-02, -6.55021369e-02, -7.69265294e-02,\n",
       "         3.55171151e-02,  9.60493386e-02,  2.18195524e-02,\n",
       "         1.20154712e-02, -1.17863379e-02, -4.57923161e-03,\n",
       "        -8.58035590e-03,  3.37150730e-02,  2.31918134e-02,\n",
       "        -7.58325532e-02, -5.23879267e-02,  4.53934073e-02,\n",
       "        -3.80785577e-02, -3.34904976e-02,  9.20353308e-02,\n",
       "         2.87688691e-02, -3.33816931e-02, -1.95852900e-03,\n",
       "        -3.04580055e-04, -1.70499235e-02,  2.85335984e-02,\n",
       "        -8.81096572e-02, -4.02253456e-02, -4.00093347e-02,\n",
       "        -1.03193149e-02, -2.51968466e-02,  2.14093029e-02,\n",
       "         1.31045237e-01, -5.29632801e-34, -1.09651692e-01,\n",
       "         1.29811568e-02,  5.92657691e-03,  4.73506227e-02,\n",
       "        -8.60296935e-03, -3.67089324e-02,  3.05215158e-02,\n",
       "         5.53066693e-02, -4.71985638e-02, -1.25118727e-02,\n",
       "        -1.15366414e-01,  9.07998811e-03,  1.07346505e-01,\n",
       "        -4.94734831e-02, -1.34290671e-02, -4.61562574e-02,\n",
       "         2.45320704e-02,  9.45076440e-03,  2.04324219e-02,\n",
       "        -3.99919078e-02, -4.67826128e-02,  2.21171696e-02,\n",
       "        -4.58187200e-02, -8.13272968e-03, -7.65670184e-03,\n",
       "         1.92284547e-02,  4.85845432e-02, -2.55903210e-02,\n",
       "         1.61540357e-03, -1.37180369e-02,  9.67309345e-03,\n",
       "         7.36417389e-03,  1.14088319e-02,  1.28853440e-01,\n",
       "         7.71836052e-03,  7.06362650e-02,  2.54452135e-02,\n",
       "         4.06523943e-02,  2.44039707e-02,  1.43777113e-02,\n",
       "        -6.00932501e-02,  7.38180280e-02, -2.44701020e-02,\n",
       "         8.98901448e-02,  3.17055243e-03,  1.01834454e-01,\n",
       "         4.17742133e-02, -5.95177487e-02, -3.23181786e-02,\n",
       "         3.80938761e-02,  1.21155363e-02, -4.07834165e-02,\n",
       "         2.84823403e-02,  4.90988754e-02, -9.35704913e-03,\n",
       "         6.50074109e-02,  7.23532140e-02, -1.67793669e-02,\n",
       "        -8.22419021e-03, -1.61573216e-02,  5.96225485e-02,\n",
       "        -3.36083770e-02,  2.12108567e-02, -6.06090687e-02,\n",
       "         1.54377669e-01, -7.24146292e-02, -3.77272554e-02,\n",
       "        -3.26890312e-02, -1.80383236e-03, -1.01960171e-02,\n",
       "        -1.60677219e-03, -6.91846609e-02,  8.28444809e-02,\n",
       "         9.88839418e-02,  3.45466356e-03, -9.90247875e-02,\n",
       "        -3.52826901e-02, -7.13178515e-02, -4.96000238e-02,\n",
       "        -3.43954526e-02, -8.13042149e-02,  4.81448062e-02,\n",
       "         5.00683207e-03, -2.21499726e-02, -5.60056977e-02,\n",
       "         1.00067444e-02, -3.59794199e-02,  1.06184311e-01,\n",
       "        -4.54196744e-02,  7.16393143e-02, -2.36773062e-02,\n",
       "         9.98143200e-03,  2.73602195e-02,  1.05985463e-01,\n",
       "         4.60163429e-02,  9.59029178e-34, -1.12306982e-01,\n",
       "         2.78912336e-02, -3.35900635e-02,  5.39242551e-02,\n",
       "        -2.22291443e-02,  1.53769050e-02,  3.10411565e-02,\n",
       "         3.39011066e-02,  7.43167326e-02,  3.42471153e-02,\n",
       "        -3.35047860e-03, -2.05350518e-02, -3.62370051e-02,\n",
       "         2.29334142e-02, -3.01992167e-02, -1.00819930e-01,\n",
       "         3.29193994e-02,  6.77542835e-02,  1.35645578e-02,\n",
       "        -5.20545896e-03, -6.58158809e-02,  9.54550654e-02,\n",
       "        -1.34039121e-02,  1.53885661e-02, -7.22936168e-02,\n",
       "         9.67835858e-02, -8.08119476e-02, -4.53452719e-03,\n",
       "        -6.42011836e-02, -4.99278419e-02,  4.64197770e-02,\n",
       "         2.21341308e-02,  3.13109234e-02,  9.13568661e-02,\n",
       "        -4.61120047e-02, -1.02761127e-01,  3.04416418e-02,\n",
       "         5.09876274e-02,  6.70140907e-02,  1.04042925e-02,\n",
       "         1.63533408e-02,  3.92030738e-02,  2.17153989e-02,\n",
       "         5.36603294e-02,  3.62809524e-02, -4.22140062e-02,\n",
       "        -2.47227084e-02,  1.90312061e-02,  3.61724533e-02,\n",
       "         6.37020841e-02, -3.21584102e-03, -8.50390922e-03,\n",
       "         3.94655429e-02,  9.02655255e-03,  1.93095822e-02,\n",
       "         6.60717934e-02,  1.02695180e-02, -4.43853624e-02,\n",
       "        -1.56523529e-02, -1.55714555e-02,  1.32904705e-02,\n",
       "        -1.16108228e-02,  4.21832167e-02, -5.44776618e-02,\n",
       "         1.29237235e-01, -2.25756839e-02,  5.26204146e-02,\n",
       "        -1.58436596e-02,  9.33165029e-02,  6.38026977e-03,\n",
       "        -9.36163496e-03, -6.08875938e-02, -3.27308029e-02,\n",
       "        -3.44816521e-02,  3.29973884e-02, -4.79392149e-02,\n",
       "        -9.81300846e-02,  2.91164629e-02, -2.70903222e-02,\n",
       "         1.81867033e-02, -1.73860490e-02, -4.40371633e-02,\n",
       "        -7.97002092e-02,  3.01647466e-02, -6.35260865e-02,\n",
       "         1.25963241e-02,  8.50249976e-02, -4.58910428e-02,\n",
       "         5.81017323e-02, -2.71001942e-02,  8.42775702e-02,\n",
       "        -4.09972817e-02, -3.37656029e-02,  1.02088144e-02,\n",
       "        -2.54193172e-02, -1.40610306e-08,  4.94446829e-02,\n",
       "        -9.04356614e-02, -6.06710389e-02,  8.29529613e-02,\n",
       "        -3.29032615e-02,  4.14910279e-02,  9.99592058e-03,\n",
       "         6.96136709e-03,  3.99230840e-03, -3.24333347e-02,\n",
       "        -3.14657018e-02, -5.33161797e-02, -3.80913652e-02,\n",
       "         1.62076838e-02,  2.45778169e-02, -7.26419911e-02,\n",
       "        -6.56893700e-02, -8.23131725e-02, -8.00500736e-02,\n",
       "        -5.36649376e-02,  5.60894758e-02, -1.10913441e-02,\n",
       "         9.62202670e-04, -1.22690313e-01, -5.13836294e-02,\n",
       "         9.96701699e-03,  1.00696459e-02,  1.07073106e-01,\n",
       "         1.19758304e-02,  1.00423656e-02, -6.28261864e-02,\n",
       "        -7.49697238e-02, -6.34075282e-03, -2.72201486e-02,\n",
       "        -1.28096193e-01, -2.62459833e-02, -1.81464087e-02,\n",
       "        -9.85360146e-02, -3.02990507e-02, -4.02614996e-02,\n",
       "         9.94291157e-02,  5.35999909e-02,  2.74899807e-02,\n",
       "        -5.53684495e-03,  8.43571126e-02,  8.35161954e-02,\n",
       "         3.74305360e-02,  7.11937249e-02,  2.98903082e-02,\n",
       "         2.32728776e-02, -3.62111889e-02,  6.20539710e-02,\n",
       "         2.15148460e-02,  5.19732535e-02,  1.45337814e-02,\n",
       "        -4.60966341e-02,  5.02554439e-02, -7.27027431e-02,\n",
       "         2.92779319e-02,  5.62663078e-02, -3.86354811e-02,\n",
       "         1.53831942e-02, -6.23094663e-02, -2.77466550e-02]], dtype=float32)"
      ]
     },
     "execution_count": 10,
     "metadata": {},
     "output_type": "execute_result"
    }
   ],
   "source": [
    "embeddings = model.encode(log_messages)\n",
    "embeddings[:2]"
   ]
  },
  {
   "cell_type": "code",
   "execution_count": 11,
   "id": "a244f857",
   "metadata": {},
   "outputs": [
    {
     "data": {
      "text/html": [
       "<div>\n",
       "<style scoped>\n",
       "    .dataframe tbody tr th:only-of-type {\n",
       "        vertical-align: middle;\n",
       "    }\n",
       "\n",
       "    .dataframe tbody tr th {\n",
       "        vertical-align: top;\n",
       "    }\n",
       "\n",
       "    .dataframe thead th {\n",
       "        text-align: right;\n",
       "    }\n",
       "</style>\n",
       "<table border=\"1\" class=\"dataframe\">\n",
       "  <thead>\n",
       "    <tr style=\"text-align: right;\">\n",
       "      <th></th>\n",
       "      <th>timestamp</th>\n",
       "      <th>source</th>\n",
       "      <th>log_message</th>\n",
       "      <th>target_label</th>\n",
       "      <th>complexity</th>\n",
       "      <th>cluster</th>\n",
       "    </tr>\n",
       "  </thead>\n",
       "  <tbody>\n",
       "    <tr>\n",
       "      <th>60</th>\n",
       "      <td>06-10-2025 16:55</td>\n",
       "      <td>LegacyCRM</td>\n",
       "      <td>Lead conversion failed for prospect ID 7842 du...</td>\n",
       "      <td>Workflow Error</td>\n",
       "      <td>llm</td>\n",
       "      <td>-1</td>\n",
       "    </tr>\n",
       "    <tr>\n",
       "      <th>255</th>\n",
       "      <td>03-05-2025 16:55</td>\n",
       "      <td>LegacyCRM</td>\n",
       "      <td>API endpoint 'getCustomerDetails' is deprecate...</td>\n",
       "      <td>Deprecation Warning</td>\n",
       "      <td>llm</td>\n",
       "      <td>-1</td>\n",
       "    </tr>\n",
       "    <tr>\n",
       "      <th>377</th>\n",
       "      <td>24-06-2025 12:16</td>\n",
       "      <td>LegacyCRM</td>\n",
       "      <td>Customer follow-up process for lead ID 5621 fa...</td>\n",
       "      <td>Workflow Error</td>\n",
       "      <td>llm</td>\n",
       "      <td>-1</td>\n",
       "    </tr>\n",
       "    <tr>\n",
       "      <th>1734</th>\n",
       "      <td>30-04-2025 07:47</td>\n",
       "      <td>LegacyCRM</td>\n",
       "      <td>The 'ExportToCSV' feature is outdated. Please ...</td>\n",
       "      <td>Deprecation Warning</td>\n",
       "      <td>llm</td>\n",
       "      <td>-1</td>\n",
       "    </tr>\n",
       "    <tr>\n",
       "      <th>1826</th>\n",
       "      <td>23-01-2025 10:33</td>\n",
       "      <td>LegacyCRM</td>\n",
       "      <td>Support for legacy authentication methods will...</td>\n",
       "      <td>Deprecation Warning</td>\n",
       "      <td>llm</td>\n",
       "      <td>-1</td>\n",
       "    </tr>\n",
       "    <tr>\n",
       "      <th>2217</th>\n",
       "      <td>12-05-2025 09:46</td>\n",
       "      <td>LegacyCRM</td>\n",
       "      <td>Task assignment for TeamID 3425 could not comp...</td>\n",
       "      <td>Workflow Error</td>\n",
       "      <td>llm</td>\n",
       "      <td>-1</td>\n",
       "    </tr>\n",
       "  </tbody>\n",
       "</table>\n",
       "</div>"
      ],
      "text/plain": [
       "             timestamp     source  \\\n",
       "60    06-10-2025 16:55  LegacyCRM   \n",
       "255   03-05-2025 16:55  LegacyCRM   \n",
       "377   24-06-2025 12:16  LegacyCRM   \n",
       "1734  30-04-2025 07:47  LegacyCRM   \n",
       "1826  23-01-2025 10:33  LegacyCRM   \n",
       "2217  12-05-2025 09:46  LegacyCRM   \n",
       "\n",
       "                                            log_message         target_label  \\\n",
       "60    Lead conversion failed for prospect ID 7842 du...       Workflow Error   \n",
       "255   API endpoint 'getCustomerDetails' is deprecate...  Deprecation Warning   \n",
       "377   Customer follow-up process for lead ID 5621 fa...       Workflow Error   \n",
       "1734  The 'ExportToCSV' feature is outdated. Please ...  Deprecation Warning   \n",
       "1826  Support for legacy authentication methods will...  Deprecation Warning   \n",
       "2217  Task assignment for TeamID 3425 could not comp...       Workflow Error   \n",
       "\n",
       "     complexity  cluster  \n",
       "60          llm       -1  \n",
       "255         llm       -1  \n",
       "377         llm       -1  \n",
       "1734        llm       -1  \n",
       "1826        llm       -1  \n",
       "2217        llm       -1  "
      ]
     },
     "execution_count": 11,
     "metadata": {},
     "output_type": "execute_result"
    }
   ],
   "source": [
    "df[df.cluster == -1]"
   ]
  },
  {
   "cell_type": "code",
   "execution_count": 12,
   "id": "9fc24534",
   "metadata": {},
   "outputs": [
    {
     "name": "stdout",
     "output_type": "stream",
     "text": [
      "Cluster 0 (Records: 1194):\n",
      "  - nova.osapi_compute.wsgi.server [req-b9718cd8-f65e-49cc-8349-6cf7122af137 113d3a99c3da401fbd62cc2caa5b96d2 54fadb412c4e40cdbaed9335e4c35a9e - - -] 10.11.10.1 \"GET /v2/54fadb412c4e40cdbaed9335e4c35a9e/servers/detail HTTP/1.1\" status: 200 len: 1893 time: 0.2675118\n",
      "  - nova.osapi_compute.wsgi.server [req-4895c258-b2f8-488f-a2a3-4fae63982e48 113d3a99c3da401fbd62cc2caa5b96d2 54fadb412c4e40cdbaed9335e4c35a9e - - -] 10.11.10.1 \"GET /v2/54fadb412c4e40cdbaed9335e4c35a9e/servers/detail HTTP/1.1\" HTTP status code -  200 len: 211 time: 0.0968180\n",
      "  - nova.osapi_compute.wsgi.server [req-ee8bc8ba-9265-4280-9215-dbe000a41209 113d3a99c3da401fbd62cc2caa5b96d2 54fadb412c4e40cdbaed9335e4c35a9e - - -] 10.11.10.1 \"GET /v2/54fadb412c4e40cdbaed9335e4c35a9e/servers/detail HTTP/1.1\" RCODE  200 len: 1874 time: 0.2280791\n",
      "  - nova.osapi_compute.wsgi.server [req-f0bffbc3-5ab0-4916-91c1-0a61dd7d4ec2 113d3a99c3da401fbd62cc2caa5b96d2 54fadb412c4e40cdbaed9335e4c35a9e - - -] 10.11.10.1 \"GET /v2/54fadb412c4e40cdbaed9335e4c35a9e/servers/detail HTTP/1.1\" Return code: 200 len: 1874 time: 0.2131531\n",
      "  - nova.compute.claims [req-a07ac654-8e81-416d-bfbb-189116b07969 113d3a99c3da401fbd62cc2caa5b96d2 54fadb412c4e40cdbaed9335e4c35a9e - - -] [instance: bf8c824d-f099-4433-a41e-e3da7578262e] Total memory: 64172 MB, used: 512.00 MB\n",
      "\n",
      "\n",
      "Cluster 1 (Records: 902):\n",
      "  - Email service experiencing issues with sending\n",
      "  - Unauthorized access to data was attempted\n",
      "  - Shard 6 replication task ended in failure\n",
      "  - Email server encountered a sending fault\n",
      "  - Critical system unit error: unit ID Component55\n",
      "\n",
      "\n",
      "Cluster 3 (Records: 197):\n",
      "  - Backup completed successfully.\n",
      "  - Backup started at 2025-05-14 07:06:55.\n",
      "  - Backup started at 2025-02-15 20:00:19.\n",
      "  - Backup completed successfully.\n",
      "  - Backup completed successfully.\n",
      "\n",
      "\n",
      "Cluster 4 (Records: 58):\n",
      "  - System updated to version 3.9.1.\n",
      "  - System updated to version 5.5.4.\n",
      "  - System updated to version 4.7.4.\n",
      "  - System updated to version 3.7.7.\n",
      "  - System updated to version 2.6.2.\n",
      "\n",
      "\n",
      "Cluster 2 (Records: 53):\n",
      "  - File data_6169.csv uploaded successfully by user User953.\n",
      "  - File data_3847.csv uploaded successfully by user User175.\n",
      "  - File data_7366.csv uploaded successfully by user User282.\n",
      "  - File data_1206.csv uploaded successfully by user User359.\n",
      "  - File data_1503.csv uploaded successfully by user User151.\n",
      "\n",
      "\n"
     ]
    }
   ],
   "source": [
    "# Group by cluster and count the number of records in each cluster\n",
    "cluster_counts = df['cluster'].value_counts()\n",
    "\n",
    "# Filter clusters with more than 10 records\n",
    "clusters_with_more_than_10 = cluster_counts[cluster_counts > 10].index\n",
    "\n",
    "# Iterate through the filtered clusters\n",
    "for cluster in clusters_with_more_than_10:\n",
    "    print(f\"Cluster {cluster} (Records: {cluster_counts[cluster]}):\")\n",
    "    \n",
    "    # Get 5 log messages from the current cluster\n",
    "    sample_logs = df[df['cluster'] == cluster]['log_message'].head(5)\n",
    "    \n",
    "    # Print the log messages\n",
    "    for log in sample_logs:\n",
    "        print(f\"  - {log}\")\n",
    "    print(\"\\n\")"
   ]
  },
  {
   "cell_type": "code",
   "execution_count": 13,
   "id": "48766eda",
   "metadata": {},
   "outputs": [],
   "source": [
    "import re\n",
    "def classify_with_regex(log_message):\n",
    "    regex_patterns = {\n",
    "        r\"User User\\d+ logged (in|out).\": \"User Action\",\n",
    "        r\"Backup (started|ended) at .*\": \"System Notification\",\n",
    "        r\"Backup completed successfully.\": \"System Notification\",\n",
    "        r\"System updated to version .*\": \"System Notification\",\n",
    "        r\"File .* uploaded successfully by user .*\": \"System Notification\",\n",
    "        r\"Disk cleanup completed successfully.\": \"System Notification\",\n",
    "        r\"System reboot initiated by user .*\": \"System Notification\",\n",
    "        r\"Account with ID .* created by .*\": \"User Action\"\n",
    "    }\n",
    "    for pattern, label in regex_patterns.items():\n",
    "        if re.search(pattern, log_message):\n",
    "            return label\n",
    "    return None"
   ]
  },
  {
   "cell_type": "code",
   "execution_count": 14,
   "id": "d3b82adc",
   "metadata": {},
   "outputs": [
    {
     "data": {
      "text/plain": [
       "'User Action'"
      ]
     },
     "execution_count": 14,
     "metadata": {},
     "output_type": "execute_result"
    }
   ],
   "source": [
    "classify_with_regex(\"Account with ID 1234 created by User1.\")"
   ]
  },
  {
   "cell_type": "code",
   "execution_count": null,
   "id": "309aad03",
   "metadata": {},
   "outputs": [],
   "source": []
  }
 ],
 "metadata": {
  "kernelspec": {
   "display_name": "Python 3",
   "language": "python",
   "name": "python3"
  },
  "language_info": {
   "codemirror_mode": {
    "name": "ipython",
    "version": 3
   },
   "file_extension": ".py",
   "mimetype": "text/x-python",
   "name": "python",
   "nbconvert_exporter": "python",
   "pygments_lexer": "ipython3",
   "version": "3.9.13"
  }
 },
 "nbformat": 4,
 "nbformat_minor": 5
}
